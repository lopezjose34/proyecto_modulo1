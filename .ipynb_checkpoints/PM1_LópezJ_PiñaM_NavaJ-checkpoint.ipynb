{
 "cells": [
  {
   "cell_type": "markdown",
   "metadata": {},
   "source": [
    "## INSTITUTO TECNOLÓGICO Y DE ESTUDIOS  SUPERIORES DE OCCIDENTE\n",
    "## Departamento de Matemáticas y Física\n",
    "\n",
    "<img style=\"float:center\" src=\"https://desi.iteso.mx/erayas/images/Logo_Horizontal.jpg\" width=\"300px\"/>\n",
    "\n",
    "# PROYECTO No. 1\n",
    "# “Ajuste de curva  para datos de absorbancia durante el proceso de fotodegradación de azul de metileno” \n",
    "> __Autores:__\n",
    ">- _José Guadalupe López Lamas_\n",
    "> nt706031@iteso.mx\n",
    ">- _María Fernanda Piña Delgadillo_\n",
    "> nt720425@iteso.mx \n",
    ">- _Juan Ventura Nava Tapia_\n",
    "> ic720206@iteso.mx \n"
   ]
  },
  {
   "cell_type": "markdown",
   "metadata": {},
   "source": [
    "## RESUMEN\n",
    "\n",
    "Para la realización de este proyecto, se tomaron los datos de cómo cambia la absorbancia del colorante azul de metileno, conforme pasa el tiempo, cuando este es irradiado con luz visible en presencia de un fotocatalizador. Conforme aumenta el tiempo de irradiación, el colorante se degrada químicamente por el fenómeno de fotocatálisis. Tomando estos datos, se hicieron 3 ajustes, uno lineal, otro cuadrático y uno último cúbico, con el propósito de observar cuál ajuste se acerca mejor a la serie de datos utilizada. Al hacer el análisis de los resultados, se encontró que el ajuste más adecuado a la serie de puntos es el cúbico, con el error cuadrático acumulado más pequeño de tan solo 0.21. "
   ]
  },
  {
   "cell_type": "markdown",
   "metadata": {},
   "source": [
    "## MARCO TEÓRICO\n",
    "\n",
    "__Mínimos cuadrados__\n",
    "Se considera una de las aplicaciones más importantes en la aproximación de funciones. Ya que, la idea es encontrar una curva tal que, dado un conjunto de pares ordenados, dicha función se aproxime mejor a los datos. La función puede ser una recta, una curva cuadrática, una cúbica, etc.consiste en “minimizar la suma de cuadrados de las diferencias en las ordenadas (componente $Y$), entre los puntos generados por la función elegida y los puntos pertenecientes al conjunto de datos”. \n",
    "La suma de los errores cuadráticos se puede representar de la siguiente manera:\n",
    "$$e=\\sum^{n}_{i=1} e_i^2$$  ecuación 1\n",
    "\n",
    "Donde $e_i = y_i-f(x_i,)  yi$ pertenece a los valores originales de la serie de datos a la que y $f(x_i)$ depende del tipo de ajuste. \n",
    ">- Para un ajuste lineal $f(x_i)=β_0+β_1x$           ecuación 2\n",
    ">- Para un ajuste cuadrático $f(x_i)=β_0+β_1x+β_2x^2$       ecuación 3\n",
    ">- Por último para un ajuste cúbico $f(x_i)=β_0+β_1x+β_2x^2+β_3x^3$       ecuación 4\n",
    "\n",
    "\n",
    "\n",
    "__Fotocatálisis heterogénea__\n",
    "\n",
    "En la actualidad, el interés de la fotocatálisis empleando materiales semiconductores está centrado en la eliminación de contaminantes en agua y aire. En general, la fotocatálisis heterogénea puede ser definida como la aceleración de una fotorreacción en presencia de un catalizador, en donde el catalizador está en diferente fase a los reactivos y es activado mediante radiación electromagnética _(Ibhado, 2013)_. \n",
    "\n",
    "La fotocatálisis heterogénea puede conllevar una gran variedad de reacciones tal como oxidación parcial o total, deshidrogenación, transferencia de hidrógenos, entre otras.  Sin embargo, la fotocatálisis heterogénea puede ser descrita de manera general en 5 pasos. El primero es la transferencia de los reactivos en fase fluida a la superficie. Es decir, como la mayoría de las reacciones, la fotocatálisis es un fenómeno superficial. El segundo paso es la adsorción de los reactivos. El proceso de adsorción es la adhesión de los átomos del reactivo, en este caso el contaminante, a la superficie de semiconductor. El tercer paso es la reacción en la fase absorbida, es aquí donde ocurre la reacción fotocatalítica, la cual se da mediante activación fotónica.  El cuarto paso es la desorción de los productos de la reacción una vez terminado el paso 3. Por último, el paso 5 es la remoción de los productos de la región de interfaz, terminando así el proceso de fotocatálisis heterogénea _(Herrmann, 1999)_.  En la figura 1, se ejemplifica cómo un material semiconductor, al ser irradiado con luz ultravioleta, la cual proporciona energía mayor o igual a la brecha prohibida de energía, lleva a cabo el proceso de fotocatálisis.\n",
    "\n",
    "![](imagen1.jpg)\n",
    "\n",
    "\n",
    "<h3 align=\"center\">Figura 1. Diagrama de energía de una partícula de TiO2 irradiada con luz ultravioleta, transfiriendo electrones y formando huecos que dan paso a reacciones de oxidación-reducción (Herrmann, 1999).</h3>\n",
    "\n",
    "Como resumen, cuando un semiconductor es irradiado con fotones, cuya energía es mayor o igual a la brecha prohibida de energía del material, habrá una absorción en la superficie del material tanto de los fotones como de los reactivos presentes _(Ashik, 2018)._ Los electrones de la banda de valencia pasan a la banda de conducción, generando huecos y electrones libres, lo que conlleva a reacciones de oxidación-reducción con los reactivos previamente absorbidos _(Ibhadon , 2018)._ Esto resulta en la oxidación y mineralización de los contaminantes, resultando en productos y compuestos inofensivos _(Herrmann, 1999)._\n",
    "\n",
    "## Caracterización UV-vis\n",
    "La espectroscopia ultravioleta-visible, conocida comúnmente como UV-vis, mide la intensidad de la luz que pasa a través de una muestra y la compara con la intensidad de la luz antes de que la atraviese. Como su nombre lo implica, este dispositivo funciona principalmente con luz ultravioleta y visible, aunque también tiene alcance con radiación infrarroja. Los componentes más simples de espectrofotómetro UV-vis   son una fuente de iluminación, un porta muestras, y un detector _(De Caro, 2015)._ En la figura 2 se muestra el funcionamiento básico y los componentes de un espectrofotómetro UV-vis. \n",
    "\n",
    "![](imagen2.png)\n",
    "<h3 align=\"center\">Figura 2. Principio de medición del UV-vis (De Caro, 2015).</h3>\n",
    "\n",
    "Un espectrofotómetro UV-vis brinda información muy valiosa sobre la muestra que se mide. Dos de las mediciones más relevantes que pueden ser obtenidas son la transmitancia y la absorbancia de la muestra.  El detector mide la intensidad de la luz que pasó a través de la muestra, a este dato se le llama  I, mientras que, a la intensidad original, antes de atravesar la muestra se le conoce como I0. De tal forma que el cociente de estos valores se le conoce como transmitancia, T, y es la cantidad de luz que se transmite _(De Caro, 2015)_ (ecuación 1).\n",
    "\n",
    "\n",
    "$T=\\frac{I}{I_0}$ ecuación 5\n",
    "    \n",
    "    \n",
    "Por el otro lado, también existe el fenómeno llamado absorbancia, A que representa la cantidad de luz absorbida por la muestra a diferentes longitudes de onda. La absorbancia se calcula con el logaritmo negativo de la transmitancia (ecuación 2) _(De Caro, 2015)._\n",
    "\n",
    "\n",
    "$A=-log T$  ecuación 6\n",
    "\n",
    "Es importante mencionar que la medición de la absorbancia es especialmente ventajosa para las pruebas de fotodegradación de algún contaminante. Esto se debe a que los picos de absorbancia pueden ser usados para cuantificar la concentración de una muestra. Es decir, entre más alto sea el pico de absorbancia, más alta es la concentración _(De Caro, 2015)._ Por lo que, al intentar degradar una muestra, la medición de la absorbancia será una herramienta clave para saber si se está degradando el contaminante o no. En la figura 3 se ejemplifica cómo los picos de absorbancia disminuye conforme lo hace la concentración.     \n",
    "![](imagen3.png)\n",
    "          <h3 align=\"center\">Figura 3.  Picos de absorbancia que disminuyen conforme lo hace la concentración (De Caro, 2015).</h3>\n",
    "\n",
    "Como ya se sabe, la absorbancia está directamente relacionada con la concentración de una sustancia. Esta relación puede ser explicada mediante la ley de Beer-Lambert. \n",
    "\n",
    "$A=εbc$   ecuación 7\n",
    "\n",
    "Donde $A$ es la absorbancia, $b$ es la longitud del camino óptico, $c$ es la concentración, y  es la absortividad molar, es decir, la cantidad de radiación que absorbe a una longitud de onda determinada por unidad de concentración.  \n",
    "\n",
    "Debido a la proporcionalidad que existe entre la concentración y la absorbancia, el porcentaje de degradación de una sustancia puede ser calculado mediante la ecuación 4.\n",
    "\n",
    "\n",
    "$\\% de degradación=\\frac{(Abs0-Abst)}{Abs}0×100$  ecuación 8\n",
    "\n",
    "\n",
    "Donde $Abs_0$ es la absorbancia en el tiempo cero y $Abs_t$ es la absorbancia en un tiempo t _(Rahman, 2009)._ \n",
    "\n"
   ]
  },
  {
   "cell_type": "markdown",
   "metadata": {},
   "source": [
    "# HIPÓTESIS\n",
    "\n",
    "El ajuste de curva necesario para modelar correctamente como cambia la absorbancia del azul de metileno conforme pasa el tiempo de irradiación será cúbico. Con este ajuste, el error será mínimo y al comparar un valor real con uno calculado utilizado el ajuste, este será menor al 5%.\n"
   ]
  },
  {
   "cell_type": "markdown",
   "metadata": {},
   "source": [
    "# OBJETIVOS\n",
    "__Objetivos general:__\n",
    ">- Utilizar el método de mínimos cuadrados para ajustar una curva a los datos del cambio de absorbancia contra tiempo de irradiación. \n",
    "\n",
    "__Objetivos específicos:__\n",
    ">- Comparar los valores reales con los ajustados con el método de mínimos cuadrados.\n",
    ">- Utilizar los resultados obtenidos para hacer conclusiones sobre los efectos del fotocatalizador utilizado en el proceso de fotodegradación del azul de metileno. \n"
   ]
  },
  {
   "cell_type": "code",
   "execution_count": null,
   "metadata": {},
   "outputs": [],
   "source": []
  },
  {
   "cell_type": "markdown",
   "metadata": {},
   "source": [
    "# METODOLOGIA \n",
    "__Pruebas de fotodegradación__\n",
    "\n",
    "\n",
    "Para el ajuste de curva, se utilizará una serie de datos sacados de pruebas de fotodegradación. Se utilizó el colorante azul de metileno (C16H18ClN3S) como contaminante, y como catalizador se utilizó un nanocomposito de óxido de zinc y sulfuro de cadmio (ZnO/CdS).  Al mezclar el colorante con el nanocomposito, este se irradió con una fuente artificial de luz visible (400-780 nm).  Una vez hecho esto, cada 5 minutos, se hizo una medición en el máximo de absorbancia del colorante. que se encuentra en 664 nm,  utilizando un espectrofotómetro UV-vis. Como la absorbancia es directamente proporcional a la concentración, conforme disminuyan estos valores, también lo hará la concentración. Es importante recordar, que el modelo no puedo tomar valores negativos, puesto a que la absorbancia y la concentración son valores positivos.   En la figura 4 se muestran los puntos medios y en base a los cuales se hará el ajuste de curva. \n",
    "\n",
    "![](imagen4.png)\n",
    "   <h3 align=\"center\">Figura 4. Puntos de absorbancia del colorante y como cambian conforme pasa el tiempo. Autoría propia</h3>\n",
    "    \n",
    "    \n",
    "__Ajuste de curva__\n",
    "Utilizando un cuaderno de Jupyter, se harán 3 ajustes de curva, lineal, cuadrático, y cúbico. Una vez obtenidos los ajustes, se elegirá el que se ajuste mejor a la curva experimental y se utilizarán los resultados obtenidos para la interpretación de los ajustes. \n"
   ]
  },
  {
   "cell_type": "markdown",
   "metadata": {},
   "source": [
    "# RESULTADOS Y DISCUSION \n",
    "\n",
    "Como ya se sabe, el propósito de las pruebas de fotodegradación es degradar químicamente el contaminante. Por lo que al se busca que el azul de metileno no esté presente una vez terminado el experimento. En la figura 5, se tiene el control, es decir el azul de metileno sin catalizador, y también se tiene la muestra con el catalizador después de la irradiación. Se puede observar que la muestra con el catalizador se ve transparente y no hay rastros del colorante. \n",
    "\n",
    "![](imagen5.png)\n",
    "<h3 align=\"center\">Figura 5.  Control y muestra con catalizador después de la irradiación. Autoría propia.</h3>\n",
    "\n",
    "Tal como se muestra en la figura 5, como se degradó el colorante, la absorbancia y por ende la concentración debió haber disminuido. Lo cual se demostró en las mediciones UV-vis, que fueron los datos con los cuales se hicieron los ajustes. \n",
    " \n",
    "En la figura 6, se muestran los resultados de los 3 ajustes de curva realizados.  Se puede observar que las estrellas rojas representan los puntos de absorbancia, mientras que las líneas son los ajustes realizados. \n",
    "\n",
    "![](imagen6.png)\n",
    "<h3 align=\"center\">Figura 6. Ajuste lineal, cuadrático, y cúbico. Autoría propia</h3>\n",
    "\n",
    "Primero, se puede observar el ajuste lineal, la línea azul.  Fácilmente, se puede concluir que este no es un buen ajuste, puesto a que claramente, los puntos de absorbancia disminuyen de manera curva. La línea recta del ajuste lineal no pasa cerca de todos los puntos, especialmente aquellos en el extremo superior y los de la parte media de la curva.  Por estas razones, el ajuste lineal se descarta como un buen ajuste de curva. \n",
    "\n",
    "Por el otro lado, se tiene el ajuste cuadrático y el cúbico.  Se puede observar que ambas rectas se ajustan de manera eficiente a los puntos.  Además, en la tabla 1, se muestra que el error de ambos ajustes es muy similar. Cuantitativamente, sería recomendado escoger el ajuste cúbico, basado en el simple hecho de que tiene el error más pequeño  de 0.21.  Pero además de esto, es importante observar el comportamiento de la gráfica. En el ajuste cuadrático, se puede observar en la parte inferior izquierda, cuando los puntos se empiezan a acercar a cero, que la parábola, comienza a aumentar de nuevo, tal como hacen las parábolas después del vertex.  Esto no sería conveniente, porque se sabe que la concentración del colorante seguirá disminuyendo hasta llegar a cero. Por el otro lado, el ajuste cúbico seguirá disminuyendo hasta llegar a cero, lo que es ideal para esta serie de datos puesto a que la absorbancia seguiría disminuyendo si continua el tiempo de irradiación. \n",
    "\n",
    "\n",
    "\n",
    "Another option is to use:\n",
    "\n",
    "\n",
    "\n",
    "<h3 align=\"center\">Tabla 1.  Errores de cada ajuste realizado.</h3>\n",
    "\n",
    "![](tabla1.png)\n",
    "    \n",
    "Como se pudo ver, el ajuste cúbico es la mejor opción para la serie de datos con la que se trabajó. Según los resultados obtenidos en el código.  En la tabla 2 se muestran los valores de las betas obtenidas, para cada ajuste, recordando que las pertenecientes al ajuste cúbico son las correctas. \n",
    "\n",
    "\n",
    "<h3 align=\"center\">Tabla 2. Valores de beta para cada ajuste</h3>\n",
    "\n",
    "![](tabla2.png)\n",
    "\n",
    "\n",
    "Según la tabla 2, la ecuación de ajuste adecuado para la serie de datos es la siguiente.\n",
    "\n",
    "$Abs=1.38-0.15t+ 0.00709t^2-0.000119t^3$\n",
    "\n",
    "Como última prueba, se sabe que el valor experimental de la absorbancia después de 115 minutos de irradiación es de 0.19, mientras que el valor calculado utilizando el ajuste es 0.21. Como se puede observar, ambos valores son bastante cercanos. El error entre estos valores es 9.52. \n",
    "\n"
   ]
  },
  {
   "cell_type": "markdown",
   "metadata": {},
   "source": [
    "# CONCLUSIONES\n",
    "\n",
    "Para la realización de este proyecto, se logró utilizar de manera efectiva el método de mínimos cuadrados para ajustar a una curva a una serie de datos experimentales.  Se encontró que el ajuste cúbico realizado es el que mejor se adecua a los puntos experimentales.  Cumpliendo los primeros objetivos. Mas, sin embargo, cabe destacar que la comparación entre un valor real y un valor obtenido con el ajuste a la curva, dio un error mayor a 5%, no logrando completar el tercer y último objetivo. A pesar de esto, por la naturaleza del ajuste, se puede decir que el ajuste hecho es confiable, y puede ser utilizado para hacer predicciones generales sobre el comportamiento de la degradación del colorante utilizando los nanocompositos que se sintetizaron.  \n",
    "La relevancia de estos resultados es de suma importancia, puesto a  que se pudo comprobar que este método es factible para datos experimentales realizados en el laboratorio. Por lo que, al utilizar este modelo, se pueden realizar estimaciones de cómo funcionaría este experimento a una escala mayor y ver si sería factible, por ejemplo, es escalar dicho procedimiento para el tratamiento de aguas contaminadas por colorantes orgánicos, tal como es el caso de las aguas residuales de industrias como la textil, maquillajes, alimentos, entre otras. \n"
   ]
  },
  {
   "cell_type": "markdown",
   "metadata": {},
   "source": [
    "# REFERENCIAS BIBLIOGRÁFICAS\n",
    ">- Ashik, U. P. (2018). Nanomaterials as Catalysts.\n",
    ">- De Caro, C. a. (2015). UV/VIS Spectrophotometry - Fundamentals and Applications. \n",
    ">- Herrmann, J. M. (1999). Heterogeneous photocatalysis: fundamentals and applications to the removal of various types of aqueous pollutants. . 53(1), 115-129. \n",
    ">- Ibhadon, A. &. (2013). Heterogeneous photocatalysis: recent advances and applications. 189-218. \n",
    ">- Ibhadon, A. &. (2018). Heterogeneous photocatalysis: recent advances and applications. . 3(1), 189-218. \n",
    ">- Rahman, M. M. (2009). Degradation of Commercial Textile Dye by Fenton’s Reagent under Xenon Beam Irradiation in Aqueous Medium .\n",
    ">- D`Alessio, Vicenzo. (2012) “Mínimos Cuadrados: Método, Ejercicios y Para Qué Sirve.”[En línea], consultado el 10/03/20, en:https://www.lifeder.com/minimos-cuadrados/ .\n"
   ]
  },
  {
   "cell_type": "code",
   "execution_count": null,
   "metadata": {},
   "outputs": [],
   "source": []
  }
 ],
 "metadata": {
  "kernelspec": {
   "display_name": "Python 3",
   "language": "python",
   "name": "python3"
  },
  "language_info": {
   "codemirror_mode": {
    "name": "ipython",
    "version": 3
   },
   "file_extension": ".py",
   "mimetype": "text/x-python",
   "name": "python",
   "nbconvert_exporter": "python",
   "pygments_lexer": "ipython3",
   "version": "3.7.4"
  }
 },
 "nbformat": 4,
 "nbformat_minor": 2
}
